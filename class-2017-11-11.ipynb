{
 "cells": [
  {
   "cell_type": "markdown",
   "metadata": {},
   "source": [
    "# INTRODUCTION TO PYTHON SCRIPTING FOR GEOSPATIAL\n",
    "\n",
    "**XSAVI 810: INTRODUCTION TO PYTHON SCRIPTING FOR GEOSPATIAL**\n",
    "    \n",
    "## Class 4\n"
   ]
  },
  {
   "cell_type": "markdown",
   "metadata": {},
   "source": [
    "\n",
    "\n",
    "[Talos - NYPD Crash Data Band-Aid](https://github.com/talos/nypd-crash-data-bandaid)\n",
    "\n",
    "[Class 3 ArcPy Terminal Code live coding text](https://github.com/pratt-savi-810/pratt-savi-810-2017-10/blob/master/misc/11-04-arcpy-code-terminal.txt)\n",
    "\n",
    "[Class 3 Create Buffers from list live coding](https://github.com/pratt-savi-810/pratt-savi-810-2017-10/blob/master/misc/11-04-listBuffer.py)\n",
    "\n",
    "\n",
    "### Course Evaluation Forms\n",
    "[https://goo.gl/forms/EDe4MHqruk7g9Yo82](https://goo.gl/forms/EDe4MHqruk7g9Yo82)\n",
    "\n",
    "\n",
    "\n",
    "* Geocoding API Example (geopy)\n"
   ]
  },
  {
   "cell_type": "code",
   "execution_count": null,
   "metadata": {},
   "outputs": [],
   "source": []
  }
 ],
 "metadata": {
  "kernelspec": {
   "display_name": "Python 2",
   "language": "python",
   "name": "python2"
  },
  "language_info": {
   "codemirror_mode": {
    "name": "ipython",
    "version": 2
   },
   "file_extension": ".py",
   "mimetype": "text/x-python",
   "name": "python",
   "nbconvert_exporter": "python",
   "pygments_lexer": "ipython2",
   "version": "2.7.13"
  }
 },
 "nbformat": 4,
 "nbformat_minor": 2
}
