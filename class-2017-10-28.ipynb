{
 "cells": [
  {
   "cell_type": "markdown",
   "metadata": {},
   "source": [
    "# INTRODUCTION TO PYTHON SCRIPTING FOR GEOSPATIAL\n",
    "\n",
    "**XSAVI 810: INTRODUCTION TO PYTHON SCRIPTING FOR GEOSPATIAL**"
   ]
  },
  {
   "cell_type": "markdown",
   "metadata": {},
   "source": [
    "## Today's Schedule \n",
    "\n",
    "* Recap\n",
    "    * Dictionaries review\n",
    "* GitHub \n",
    "    * Creating GitHub Issues\n",
    "* Python Resources\n",
    "* Intro to ArcPy and Python in ArcGIS Desktop/ArcGIS Pro\n",
    "* ArcPy - Mapping tools\n",
    "    * arcpy.mapping example\n",
    "* Using Jupyter Notebook\n",
    "* Intro to reading files\n",
    "* Intro to Pandas\n",
    "\n",
    "* Mining the web links: https://fitnr.github.io/savi-750/class4/index.html#1\n",
    "    * Class website: https://fitnr.github.io/savi-750/\n"
   ]
  },
  {
   "cell_type": "markdown",
   "metadata": {},
   "source": [
    "# Dictionaries\n",
    "\n",
    "http://www.pythonforbeginners.com/dictionary/how-to-use-dictionaries-in-python\n",
    "\n"
   ]
  },
  {
   "cell_type": "code",
   "execution_count": 11,
   "metadata": {},
   "outputs": [],
   "source": [
    "mmw_albums = {\n",
    "        \"Notes from the Underground\" : 1992,\n",
    "        \"It's a Jungle in Here\" : 1993,\n",
    "        \"Friday Afternoon in the Universe\" : 1995,\n",
    "        \"Shack-man\" : 1996,\n",
    "        \"Farmer's Reserve\" : 1997,\n",
    "        \"Combustication\" : 1998,\n",
    "        \"Tonic\" : 2000,\n",
    "        \"The Dropper\" : 2000,\n",
    "        \"Electric Tonic\" : 2001,\n",
    "        \"Uninvisible\" : 2002,\n",
    "        \"End of the World Party (Just in Case)\" : 2004,\n",
    "        \"Let's Go Everywhere\" : 2014,\n",
    "        \"Zaebos: Book of Angels Volume 11\" : 2008,\n",
    "        \"Radiolarians 1\" : 2008,\n",
    "        \"Radiolarians 2\" : 2009,\n",
    "        \"Radiolarians 3\" : 2009,\n",
    "        \"Radiolarians: The Evolutionary Set\" : 2009,\n",
    "        \"The Stone: Issue Four\" : 2010,\n",
    "        \"20\" : 2011,\n",
    "        \"Free Magic\" : 2012,\n",
    "        \"Juice\" : 2014,\n",
    "    }"
   ]
  },
  {
   "cell_type": "code",
   "execution_count": 12,
   "metadata": {},
   "outputs": [
    {
     "data": {
      "text/plain": [
       "1998"
      ]
     },
     "execution_count": 12,
     "metadata": {},
     "output_type": "execute_result"
    }
   ],
   "source": [
    "mmw_albums['Combustication']"
   ]
  },
  {
   "cell_type": "code",
   "execution_count": 13,
   "metadata": {},
   "outputs": [
    {
     "data": {
      "text/plain": [
       "{'20': 2011,\n",
       " 'Combustication': 1998,\n",
       " 'Electric Tonic': 2001,\n",
       " 'End of the World Party (Just in Case)': 2004,\n",
       " \"Farmer's Reserve\": 1997,\n",
       " 'Free Magic': 2012,\n",
       " 'Friday Afternoon in the Universe': 1995,\n",
       " \"It's a Jungle in Here\": 1993,\n",
       " 'Juice': 2014,\n",
       " \"Let's Go Everywhere\": 2014,\n",
       " 'Notes from the Underground': 1992,\n",
       " 'Radiolarians 1': 2008,\n",
       " 'Radiolarians 2': 2009,\n",
       " 'Radiolarians 3': 2009,\n",
       " 'Radiolarians: The Evolutionary Set': 2009,\n",
       " 'Shack-man': 1996,\n",
       " 'The Dropper': 2000,\n",
       " 'The Stone: Issue Four': 2010,\n",
       " 'Tonic': 2000,\n",
       " 'Uninvisible': 2002,\n",
       " 'Zaebos: Book of Angels Volume 11': 2008}"
      ]
     },
     "execution_count": 13,
     "metadata": {},
     "output_type": "execute_result"
    }
   ],
   "source": [
    "mmw_albums"
   ]
  },
  {
   "cell_type": "code",
   "execution_count": 14,
   "metadata": {},
   "outputs": [
    {
     "data": {
      "text/plain": [
       "{'20': 2011,\n",
       " 'Combustication': 1998,\n",
       " 'Electric Tonic': 2001,\n",
       " 'End of the World Party (Just in Case)': 2004,\n",
       " \"Farmer's Reserve\": 1997,\n",
       " 'Free Magic': 2012,\n",
       " 'Friday Afternoon in the Universe': 1995,\n",
       " \"It's a Jungle in Here\": 1993,\n",
       " 'Juice': 2014,\n",
       " \"Let's Go Everywhere\": 2014,\n",
       " 'Notes from the Underground': 1992,\n",
       " 'Radiolarians 1': 2008,\n",
       " 'Radiolarians 2': 2009,\n",
       " 'Radiolarians 3': 2009,\n",
       " 'Radiolarians: The Evolutionary Set': 2009,\n",
       " 'Shack-man': 1996,\n",
       " 'The Dropper': 2000,\n",
       " 'The Stone: Issue Four': 2010,\n",
       " 'The Woodstock Sessions Vol. 2': 2014,\n",
       " 'Tonic': 2000,\n",
       " 'Uninvisible': 2002,\n",
       " 'Zaebos: Book of Angels Volume 11': 2008}"
      ]
     },
     "execution_count": 14,
     "metadata": {},
     "output_type": "execute_result"
    }
   ],
   "source": [
    "mmw_albums['The Woodstock Sessions Vol. 2'] = 2014\n",
    "\n",
    "mmw_albums"
   ]
  },
  {
   "cell_type": "code",
   "execution_count": 15,
   "metadata": {},
   "outputs": [
    {
     "data": {
      "text/plain": [
       "2014"
      ]
     },
     "execution_count": 15,
     "metadata": {},
     "output_type": "execute_result"
    }
   ],
   "source": [
    "mmw_albums['The Woodstock Sessions Vol. 2']"
   ]
  },
  {
   "cell_type": "code",
   "execution_count": 16,
   "metadata": {},
   "outputs": [
    {
     "name": "stdout",
     "output_type": "stream",
     "text": [
      "Radiolarians: The Evolutionary Set was released in  2009  duuuudde!\n",
      "Radiolarians 3 was released in  2009  duuuudde!\n",
      "Radiolarians 2 was released in  2009  duuuudde!\n",
      "Radiolarians 1 was released in  2008  duuuudde!\n",
      "The Woodstock Sessions Vol. 2 was released in  2014  duuuudde!\n",
      "Shack-man was released in  1996  duuuudde!\n",
      "Tonic was released in  2000  duuuudde!\n",
      "20 was released in  2011  duuuudde!\n",
      "Free Magic was released in  2012  duuuudde!\n",
      "Notes from the Underground was released in  1992  duuuudde!\n",
      "The Stone: Issue Four was released in  2010  duuuudde!\n",
      "Friday Afternoon in the Universe was released in  1995  duuuudde!\n",
      "Farmer's Reserve was released in  1997  duuuudde!\n",
      "The Dropper was released in  2000  duuuudde!\n",
      "End of the World Party (Just in Case) was released in  2004  duuuudde!\n",
      "Electric Tonic was released in  2001  duuuudde!\n",
      "Let's Go Everywhere was released in  2014  duuuudde!\n",
      "Zaebos: Book of Angels Volume 11 was released in  2008  duuuudde!\n",
      "Juice was released in  2014  duuuudde!\n",
      "Combustication was released in  1998  duuuudde!\n",
      "It's a Jungle in Here was released in  1993  duuuudde!\n",
      "Uninvisible was released in  2002  duuuudde!\n"
     ]
    }
   ],
   "source": [
    "for key,val in mmw_albums.items():\n",
    "    print key, \"was released in \", val, \" duuuudde!\""
   ]
  },
  {
   "cell_type": "markdown",
   "metadata": {},
   "source": [
    "### What MMW album came out in 2002? And lemme see it's Wikipedia page!"
   ]
  },
  {
   "cell_type": "code",
   "execution_count": 37,
   "metadata": {},
   "outputs": [
    {
     "name": "stdout",
     "output_type": "stream",
     "text": [
      "Uninvisible\n"
     ]
    },
    {
     "data": {
      "text/html": [
       "\n",
       "        <iframe\n",
       "            width=\"100%\"\n",
       "            height=\"350\"\n",
       "            src=\"https://en.wikipedia.org/wiki/Uninvisible\"\n",
       "            frameborder=\"0\"\n",
       "            allowfullscreen\n",
       "        ></iframe>\n",
       "        "
      ],
      "text/plain": [
       "<IPython.lib.display.IFrame at 0x10b7e7c10>"
      ]
     },
     "execution_count": 37,
     "metadata": {},
     "output_type": "execute_result"
    }
   ],
   "source": [
    "from IPython.display import IFrame #ALSO! you can embed some web sites into Jupyter notebooks\n",
    "\n",
    "what_year_do_i_want = 2002\n",
    "\n",
    "album_by_year = mmw_albums.keys()[mmw_albums.values().index(what_year_do_i_want)] # Prints Album name from 2002\n",
    "\n",
    "print album_by_year # Selected Album name by thhhhhhheeeeeee year!\n",
    "\n",
    "IFrame('https://en.wikipedia.org/wiki/'+album_by_year, width='100%', height=350)"
   ]
  },
  {
   "cell_type": "markdown",
   "metadata": {},
   "source": [
    "## More administrative stuff: "
   ]
  },
  {
   "cell_type": "markdown",
   "metadata": {},
   "source": [
    "## Course resources:\n",
    "\n",
    "[Course resources will be in a GitHub repo](https://github.com/pratt-savi-810) - https://github.com/pratt-savi-810:\n",
    "\n",
    "[<img src=\"https://assets-cdn.github.com/images/modules/logos_page/GitHub-Logo.png\" width='45%'>](https://github.com/pratt-savi-810)\n",
    "\n"
   ]
  },
  {
   "cell_type": "markdown",
   "metadata": {},
   "source": [
    "### Open a GitHub Issue\n",
    "https://help.github.com/articles/creating-an-issue/\n",
    "\n",
    "So in our class the place to do it is here: [https://github.com/pratt-savi-810/pratt-savi-810-2017-10/issues](https://github.com/pratt-savi-810/pratt-savi-810-2017-10/issues)\n",
    "\n",
    "* You can see all the **CLOSED** issues I've created and completed here: [https://github.com/pratt-savi-810/pratt-savi-810-2017-10/issues?utf8=%E2%9C%93&q=is%3Aissue%20is%3Aclosed](https://github.com/pratt-savi-810/pratt-savi-810-2017-10/issues?utf8=%E2%9C%93&q=is%3Aissue%20is%3Aclosed)\n",
    "\n",
    "* And click here to see all the **OPEN** issues:\n",
    "[https://github.com/pratt-savi-810/pratt-savi-810-2017-10/issues?utf8=%E2%9C%93&q=is%3Aissue%20is%3Aopen](https://github.com/pratt-savi-810/pratt-savi-810-2017-10/issues?utf8=%E2%9C%93&q=is%3Aissue%20is%3Aopen)"
   ]
  },
  {
   "cell_type": "markdown",
   "metadata": {},
   "source": [
    "# Task:\n",
    "**Let's Open a GitHub issue for your projects and we can discuss in there.** "
   ]
  },
  {
   "cell_type": "markdown",
   "metadata": {},
   "source": [
    "## Future things to cover:\n",
    "* PIP (Python in Place) - Installing Dependencies\n",
    "* IPython \n",
    "* Jupyter Notebooks\n",
    "* Virtual Environments (week 2 ?)\n",
    "* Matplotlib\n",
    "* Pandas\n",
    "    * Reading Excel files"
   ]
  },
  {
   "cell_type": "markdown",
   "metadata": {},
   "source": [
    "## Necessary things to cover: \n",
    "* ArcPy\n",
    "* Shapely, Fiona\n",
    "* Census API\n",
    "* Geocoding API"
   ]
  },
  {
   "cell_type": "code",
   "execution_count": null,
   "metadata": {},
   "outputs": [],
   "source": []
  }
 ],
 "metadata": {
  "kernelspec": {
   "display_name": "Python 2",
   "language": "python",
   "name": "python2"
  },
  "language_info": {
   "codemirror_mode": {
    "name": "ipython",
    "version": 2
   },
   "file_extension": ".py",
   "mimetype": "text/x-python",
   "name": "python",
   "nbconvert_exporter": "python",
   "pygments_lexer": "ipython2",
   "version": "2.7.11"
  }
 },
 "nbformat": 4,
 "nbformat_minor": 2
}
