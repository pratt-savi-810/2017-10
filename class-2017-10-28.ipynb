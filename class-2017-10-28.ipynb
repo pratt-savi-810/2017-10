{
 "cells": [
  {
   "cell_type": "markdown",
   "metadata": {},
   "source": [
    "# INTRODUCTION TO PYTHON SCRIPTING FOR GEOSPATIAL\n",
    "\n",
    "**XSAVI 810: INTRODUCTION TO PYTHON SCRIPTING FOR GEOSPATIAL**"
   ]
  },
  {
   "cell_type": "markdown",
   "metadata": {},
   "source": [
    "## Today's Schedule \n",
    "\n",
    "* Recap\n",
    "    * Dictionaries review\n",
    "* GitHub \n",
    "    * Creating GitHub Issues\n",
    "* Python Resources\n",
    "* Intro to ArcPy and Python in ArcGIS Desktop/ArcGIS Pro\n",
    "* ArcPy - Mapping tools\n",
    "    * arcpy.mapping example\n",
    "* Using Jupyter Notebook\n",
    "* Intro to reading files\n",
    "* Intro to Pandas\n",
    "\n",
    "* Mining the web links: https://fitnr.github.io/savi-750/class4/index.html#1\n",
    "    * Class website: https://fitnr.github.io/savi-750/\n"
   ]
  },
  {
   "cell_type": "markdown",
   "metadata": {},
   "source": [
    "## More administrative stuff: "
   ]
  },
  {
   "cell_type": "markdown",
   "metadata": {},
   "source": [
    "## Course resources:\n",
    "\n",
    "[Course resources will be in a GitHub repo](https://github.com/pratt-savi-810) - https://github.com/pratt-savi-810:\n",
    "\n",
    "[<img src=\"https://assets-cdn.github.com/images/modules/logos_page/GitHub-Logo.png\" width='45%'>](https://github.com/pratt-savi-810)\n",
    "\n"
   ]
  },
  {
   "cell_type": "markdown",
   "metadata": {},
   "source": [
    "### Open a GitHub Issue\n",
    "https://help.github.com/articles/creating-an-issue/\n",
    "\n",
    "So in our class the place to do it is here: [https://github.com/pratt-savi-810/pratt-savi-810-2017-10/issues](https://github.com/pratt-savi-810/pratt-savi-810-2017-10/issues)\n",
    "\n",
    "* You can see all the **CLOSED** issues I've created and completed here: [https://github.com/pratt-savi-810/pratt-savi-810-2017-10/issues?utf8=%E2%9C%93&q=is%3Aissue%20is%3Aclosed](https://github.com/pratt-savi-810/pratt-savi-810-2017-10/issues?utf8=%E2%9C%93&q=is%3Aissue%20is%3Aclosed)\n",
    "\n",
    "* And click here to see all the **OPEN** issues:\n",
    "[https://github.com/pratt-savi-810/pratt-savi-810-2017-10/issues?utf8=%E2%9C%93&q=is%3Aissue%20is%3Aopen](https://github.com/pratt-savi-810/pratt-savi-810-2017-10/issues?utf8=%E2%9C%93&q=is%3Aissue%20is%3Aopen)"
   ]
  },
  {
   "cell_type": "markdown",
   "metadata": {},
   "source": [
    "# Task:\n",
    "**Let's Open a GitHub issue for your projects and we can discuss in there.** "
   ]
  },
  {
   "cell_type": "markdown",
   "metadata": {},
   "source": [
    "## Future things to cover:\n",
    "* PIP (Python in Place) - Installing Dependencies\n",
    "* IPython \n",
    "* Jupyter Notebooks\n",
    "* Virtual Environments (week 2 ?)\n",
    "* Matplotlib\n",
    "* Pandas\n",
    "    * Reading Excel files"
   ]
  },
  {
   "cell_type": "markdown",
   "metadata": {},
   "source": [
    "## Necessary things to cover: \n",
    "* ArcPy\n",
    "* Shapely, Fiona\n",
    "* Census API\n",
    "* Geocoding API"
   ]
  },
  {
   "cell_type": "code",
   "execution_count": null,
   "metadata": {},
   "outputs": [],
   "source": []
  }
 ],
 "metadata": {
  "kernelspec": {
   "display_name": "Python 2",
   "language": "python",
   "name": "python2"
  },
  "language_info": {
   "codemirror_mode": {
    "name": "ipython",
    "version": 2
   },
   "file_extension": ".py",
   "mimetype": "text/x-python",
   "name": "python",
   "nbconvert_exporter": "python",
   "pygments_lexer": "ipython2",
   "version": "2.7.11"
  }
 },
 "nbformat": 4,
 "nbformat_minor": 2
}
