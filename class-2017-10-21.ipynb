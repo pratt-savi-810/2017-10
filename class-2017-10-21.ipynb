{
 "cells": [
  {
   "cell_type": "markdown",
   "metadata": {},
   "source": [
    "# INTRODUCTION TO PYTHON SCRIPTING FOR GEOSPATIAL\n",
    "\n",
    "**XSAVI 810: INTRODUCTION TO PYTHON SCRIPTING FOR GEOSPATIAL**\n",
    "Stand out from the usual GIS crowd by learning how to program and unlock the potential of geospatial scripting and programming with Python. Python is one of the most popular, user-friendly and in-demand programming languages for Geospatial applications. Move beyond the out-of-the-box capabilities of ArcGIS by learning how to automate lengthy GIS processes, create custom/shareable tools and scripts, synthesize data and apply geoprocessing in ways that reduce manual overhead and help iterate and generate new insights more quickly. We’ll introduce you to Python and then dive into ArcPy and other useful data and geospatial Python libraries for data science/data carpentry (pandas), interacting with API’s for applications such as geocoding (geopy) and data retrieval (US Census API) and creating mapping applications on Carto (CartoDB) programmatically with the carto-python library. "
   ]
  },
  {
   "cell_type": "markdown",
   "metadata": {},
   "source": [
    "What I hope you'll get out of this course:\n",
    "* learn some basic Python\n",
    "* learning how to script and automate GIS tasks with Python\n",
    "* learning the lingo and tools \n",
    "* setting up development/project environments the right way (I did these wrong for years :( )\n",
    "* how to troubleshoot dependencies, etc. \n",
    "* build some programs"
   ]
  },
  {
   "cell_type": "markdown",
   "metadata": {},
   "source": [
    "## Today's Schedule \n",
    "\n",
    "* Introductions\n",
    "    * Please tell the class a bit about yourself, what you know and what you hope to get out of this course (I am flexible and if class size is small, we can likely cover specific topics in more detail if not too large in scope).\n",
    "* Interactive [quick dive](#quickdive) in to Python \n",
    "* Class resources\n"
   ]
  },
  {
   "cell_type": "markdown",
   "metadata": {},
   "source": [
    "<h2><a id='quickdive'>Quick dive into Python</a></h2>\n",
    "\n",
    "We're going to use [repl.it](https://repl.it/languages/python) to do some very basic Python introduction and get your hands dirty early on, as its super important to start making mistakes early on. \n",
    "\n",
    "[![repl](img/01-repl.png)](https://repl.it/languages/python)"
   ]
  },
  {
   "cell_type": "markdown",
   "metadata": {},
   "source": [
    "### Let's go!"
   ]
  },
  {
   "cell_type": "code",
   "execution_count": 1,
   "metadata": {},
   "outputs": [
    {
     "name": "stdout",
     "output_type": "stream",
     "text": [
      "Robert\n",
      "Kat\n",
      "Antti\n",
      "Alihan\n",
      "Case\n"
     ]
    }
   ],
   "source": [
    "classList = ['Robert', 'Kat', 'Antti', 'Alihan', 'Case']\n",
    "\n",
    "for i in classList:\n",
    "    print i"
   ]
  },
  {
   "cell_type": "markdown",
   "metadata": {},
   "source": [
    "## Resources\n",
    "Some links and stuff to things we discussed in class:\n",
    "\n",
    "### Spatial Epidemiology Notes\n",
    "#### Applications and Vignettes in R\n",
    "\n",
    "by Charles DiMaggio, PhD\n",
    "Center for Injury Epidemiology and Prevention\n",
    "Columbia University, NY\n",
    "cjd11@columbia.edu\n",
    "\n",
    "Share http://www.columbia.edu/~cjd11/charles_dimaggio/DIRE/resources/spatialEpiBook.pdf\n",
    "  \n",
    "### ArcPy.Mapping\n",
    "  \n",
    "Get into arcpy.mapping:\n",
    "http://desktop.arcgis.com/en/arcmap/10.3/analyze/arcpy-mapping/alphabeticallistoffunctions.htm    \n",
    "Example on exporting a bunch of MXD's:\n",
    "\n",
    "    for i in map_names:\n",
    "        ExportToPDF(i+'.mxd',i+'.pdf')\n",
    "    \n",
    "### Text Editors   \n",
    "* Sublime - [https://www.sublimetext.com/](https://www.sublimetext.com/)\n",
    "* Atom - [https://atom.io/](https://atom.io/)\n",
    "\n",
    "### Open a GitHub Issue\n",
    "https://help.github.com/articles/creating-an-issue/\n",
    "\n",
    "So in our class the place to do it is here: [https://github.com/pratt-savi-810/pratt-savi-810-2017-10/issues](https://github.com/pratt-savi-810/pratt-savi-810-2017-10/issues)"
   ]
  },
  {
   "cell_type": "code",
   "execution_count": 3,
   "metadata": {},
   "outputs": [
    {
     "name": "stdout",
     "output_type": "stream",
     "text": [
      "GIS rocks!\n"
     ]
    }
   ],
   "source": [
    "x = 'GIS rocks!'\n",
    "print x"
   ]
  },
  {
   "cell_type": "code",
   "execution_count": 4,
   "metadata": {},
   "outputs": [
    {
     "name": "stdout",
     "output_type": "stream",
     "text": [
      "GIS rocks!\n"
     ]
    }
   ],
   "source": [
    "# comments begin with hashtags, this is where you can add notes, etc. \n",
    "x = 'GIS rocks!' #let's declare this variable X as this string\n",
    "print x #let's print x"
   ]
  },
  {
   "cell_type": "code",
   "execution_count": 5,
   "metadata": {},
   "outputs": [
    {
     "name": "stdout",
     "output_type": "stream",
     "text": [
      "GIS is very very cool! GIS is very very cool! \n"
     ]
    }
   ],
   "source": [
    "x = 'GIS is very very cool! ' # I can change this variable\n",
    "print x*2 # and perform some operation on it, such as printing it twice"
   ]
  },
  {
   "cell_type": "code",
   "execution_count": 70,
   "metadata": {},
   "outputs": [],
   "source": [
    "myCoords = [-74.0059, 40.7127] # I'll store coordinates in this list"
   ]
  },
  {
   "cell_type": "code",
   "execution_count": 71,
   "metadata": {},
   "outputs": [
    {
     "name": "stdout",
     "output_type": "stream",
     "text": [
      "[-74.0059, 40.7127]\n"
     ]
    }
   ],
   "source": [
    "print myCoords # note that the coords are longitude, latitude order"
   ]
  },
  {
   "cell_type": "code",
   "execution_count": 72,
   "metadata": {},
   "outputs": [
    {
     "name": "stdout",
     "output_type": "stream",
     "text": [
      "40.7127\n"
     ]
    }
   ],
   "source": [
    "print myCoords[1]"
   ]
  },
  {
   "cell_type": "markdown",
   "metadata": {},
   "source": [
    "### What just happened? \n",
    "\n",
    "We accessed the 1th element in the list. 0 is always the first element in a list. [Learn more about lists](https://docs.python.org/3/tutorial/datastructures.html#more-on-lists)"
   ]
  },
  {
   "cell_type": "code",
   "execution_count": 73,
   "metadata": {},
   "outputs": [
    {
     "name": "stdout",
     "output_type": "stream",
     "text": [
      "-74.0059\n"
     ]
    }
   ],
   "source": [
    "print myCoords[0]"
   ]
  },
  {
   "cell_type": "code",
   "execution_count": 74,
   "metadata": {},
   "outputs": [
    {
     "ename": "IndexError",
     "evalue": "list index out of range",
     "output_type": "error",
     "traceback": [
      "\u001b[0;31m---------------------------------------------------------------------------\u001b[0m",
      "\u001b[0;31mIndexError\u001b[0m                                Traceback (most recent call last)",
      "\u001b[0;32m<ipython-input-74-6bd4cc0568cf>\u001b[0m in \u001b[0;36m<module>\u001b[0;34m()\u001b[0m\n\u001b[0;32m----> 1\u001b[0;31m \u001b[0;32mprint\u001b[0m \u001b[0mmyCoords\u001b[0m\u001b[0;34m[\u001b[0m\u001b[0;36m2\u001b[0m\u001b[0;34m]\u001b[0m\u001b[0;34m\u001b[0m\u001b[0m\n\u001b[0m",
      "\u001b[0;31mIndexError\u001b[0m: list index out of range"
     ]
    }
   ],
   "source": [
    "print myCoords[2]"
   ]
  },
  {
   "cell_type": "markdown",
   "metadata": {},
   "source": [
    "### We can't find that item in the list :("
   ]
  },
  {
   "cell_type": "code",
   "execution_count": 75,
   "metadata": {},
   "outputs": [],
   "source": [
    "myCoords.append(-73.949997) # add a new longitude"
   ]
  },
  {
   "cell_type": "code",
   "execution_count": 76,
   "metadata": {},
   "outputs": [],
   "source": [
    "myCoords.append(40.650002) # add a new latitude"
   ]
  },
  {
   "cell_type": "code",
   "execution_count": 77,
   "metadata": {},
   "outputs": [
    {
     "name": "stdout",
     "output_type": "stream",
     "text": [
      "[-74.0059, 40.7127, -73.949997, 40.650002]\n"
     ]
    }
   ],
   "source": [
    "print myCoords"
   ]
  },
  {
   "cell_type": "code",
   "execution_count": 79,
   "metadata": {},
   "outputs": [
    {
     "name": "stdout",
     "output_type": "stream",
     "text": [
      "40.650002\n"
     ]
    }
   ],
   "source": [
    "print myCoords[3]"
   ]
  },
  {
   "cell_type": "markdown",
   "metadata": {},
   "source": [
    "What is this `append( )` business? "
   ]
  },
  {
   "cell_type": "markdown",
   "metadata": {},
   "source": [
    "### [`append()`](https://docs.python.org/3/tutorial/datastructures.html#more-on-lists) is a Python function we can apply to a `list` \n",
    "Learn more about [`append()`](https://docs.python.org/3/tutorial/datastructures.html#more-on-lists) \n",
    "\n",
    "`list.append(x)`\n"
   ]
  },
  {
   "cell_type": "markdown",
   "metadata": {},
   "source": [
    "### How about I want to know how many items are in the list"
   ]
  },
  {
   "cell_type": "code",
   "execution_count": 81,
   "metadata": {},
   "outputs": [
    {
     "data": {
      "text/plain": [
       "4"
      ]
     },
     "execution_count": 81,
     "metadata": {},
     "output_type": "execute_result"
    }
   ],
   "source": [
    "len(myCoords)"
   ]
  },
  {
   "cell_type": "markdown",
   "metadata": {},
   "source": [
    "Learn more about [`len()`](https://docs.python.org/2/library/functions.html#len)"
   ]
  },
  {
   "cell_type": "code",
   "execution_count": null,
   "metadata": {},
   "outputs": [],
   "source": [
    "myCoords = [-74.0059, 40.7127, -73.949997, 40.650002, 32, 'potato']\n",
    "\n",
    "myCoordsFinal = []\n",
    "\n",
    "for i in myCoords:\n",
    "  if type(i) == float or type(i) == int:\n",
    "    myCoordsFinal.append(i)\n",
    "    print i, 'is a number'\n",
    "  else:\n",
    "    print i, 'is not a number'\n",
    "    \n",
    "print myCoordsFinal\n",
    "    "
   ]
  },
  {
   "cell_type": "code",
   "execution_count": 82,
   "metadata": {},
   "outputs": [
    {
     "data": {
      "text/plain": [
       "3"
      ]
     },
     "execution_count": 82,
     "metadata": {},
     "output_type": "execute_result"
    }
   ],
   "source": [
    "len('GIS')"
   ]
  },
  {
   "cell_type": "markdown",
   "metadata": {},
   "source": [
    "### Let's take break from following along...\n",
    "\n",
    "![homer](https://meblogwritegood.files.wordpress.com/2012/06/screen-shot-2012-06-03-at-1-32-50-pm.png)"
   ]
  },
  {
   "cell_type": "markdown",
   "metadata": {},
   "source": [
    "### [Data Types](https://en.wikiversity.org/wiki/Python_Concepts/Basic_data_types#Types)\n",
    "    \n",
    "* Integers - `1, 2, 3`\n",
    "* Floats - `0.7, 5.2, 9.999999`\n",
    "* Strings - `'s', 'pasta salad', 'pizza', 'this is a string that is a bit longer'`\n",
    "* Booleans - `True, False`\n"
   ]
  },
  {
   "cell_type": "markdown",
   "metadata": {},
   "source": [
    "### [Complex Variables](https://en.wikiversity.org/wiki/Python_Concepts/Basic_data_types#Types) \n",
    "[https://en.wikiversity.org/wiki/Python_Concepts/Basic_data_types\n",
    "](https://en.wikiversity.org/wiki/Python_Concepts/Basic_data_types#Types)\n",
    "\n",
    "\n",
    "* Tuples \n",
    "    * A list with a fixed number of elements. ie x = (1,2,3) parentheses makes it a tuple.\n",
    "* Lists \n",
    "    * A list without a fixed number of elements. ie x = [1,2,3] note the square brackets, a list\n",
    "* Dictionaries \n",
    "    * A type with multiple elements i.e. x = {1: 'a','b': 2,3: 3} where you address the elements with, e.g., a text."
   ]
  },
  {
   "cell_type": "markdown",
   "metadata": {},
   "source": [
    "## [More on Data Structures](https://docs.python.org/3/tutorial/datastructures.html#data-structures)"
   ]
  },
  {
   "cell_type": "code",
   "execution_count": 4,
   "metadata": {},
   "outputs": [
    {
     "data": {
      "text/html": [
       "\n",
       "        <iframe\n",
       "            width=\"100%\"\n",
       "            height=\"350\"\n",
       "            src=\"https://open.spotify.com/track/5Ee0wVyPuys66jaDo09eHY\"\n",
       "            frameborder=\"0\"\n",
       "            allowfullscreen\n",
       "        ></iframe>\n",
       "        "
      ],
      "text/plain": [
       "<IPython.lib.display.IFrame at 0x105124a90>"
      ]
     },
     "execution_count": 4,
     "metadata": {},
     "output_type": "execute_result"
    }
   ],
   "source": [
    "from IPython.display import IFrame #ALSO! you can embed some web sites into Jupyter notebooks\n",
    "IFrame('https://open.spotify.com/track/5Ee0wVyPuys66jaDo09eHY', width='100%', height=350)"
   ]
  },
  {
   "cell_type": "code",
   "execution_count": null,
   "metadata": {},
   "outputs": [],
   "source": [
    "Uninvisible"
   ]
  },
  {
   "cell_type": "code",
   "execution_count": 86,
   "metadata": {},
   "outputs": [],
   "source": [
    "d = {'name': 'Danny'} # set key as name, value as Danny"
   ]
  },
  {
   "cell_type": "code",
   "execution_count": 90,
   "metadata": {},
   "outputs": [
    {
     "data": {
      "text/plain": [
       "'Danny'"
      ]
     },
     "execution_count": 90,
     "metadata": {},
     "output_type": "execute_result"
    }
   ],
   "source": [
    "d['name'] # access the value for the key"
   ]
  },
  {
   "cell_type": "code",
   "execution_count": 97,
   "metadata": {},
   "outputs": [
    {
     "name": "stdout",
     "output_type": "stream",
     "text": [
      "danny\n"
     ]
    }
   ],
   "source": [
    "lowercasename = d['name'].lower() \n",
    "''' now I'm setting a variable as \n",
    "lowercasename and calling the lower() \n",
    "function. These three single quotes \n",
    "are for a multiline comments.''' \n",
    "\n",
    "print lowercasename"
   ]
  },
  {
   "cell_type": "code",
   "execution_count": 98,
   "metadata": {},
   "outputs": [
    {
     "name": "stdout",
     "output_type": "stream",
     "text": [
      "DANNY\n"
     ]
    }
   ],
   "source": [
    "print lowercasename.upper()"
   ]
  },
  {
   "cell_type": "code",
   "execution_count": 99,
   "metadata": {},
   "outputs": [
    {
     "name": "stdout",
     "output_type": "stream",
     "text": [
      "danny\n"
     ]
    }
   ],
   "source": [
    "print lowercasename"
   ]
  },
  {
   "cell_type": "markdown",
   "metadata": {},
   "source": [
    "### What the... \n",
    "#### I thought I \"`upper()`\" `lowercasename`... \n",
    "###### what happened here? \n",
    "\n",
    "Discussion."
   ]
  },
  {
   "cell_type": "markdown",
   "metadata": {},
   "source": [
    "# range( ) function examples\n",
    "\n",
    "http://pythoncentral.io/pythons-range-function-explained/\n",
    "![http://pythoncentral.io/wp-content/themes/pythoncentral/assets/images/python-central.svg](http://pythoncentral.io/wp-content/themes/pythoncentral/assets/images/python-central.svg)"
   ]
  },
  {
   "cell_type": "markdown",
   "metadata": {},
   "source": [
    "Python's range() Parameters\n",
    "\n",
    "The `range()` function has two sets of parameters, as follows:\n",
    "\n",
    "`range(stop)`\n",
    "\n",
    "* stop: Number of integers (whole numbers) to generate, starting from zero. eg. range(3) == [0, 1, 2].\n",
    "\n",
    "`range([start], stop[, step])`\n",
    "\n",
    "* start: Starting number of the sequence.\n",
    "* stop: Generate numbers up to, but not including this number.\n",
    "* step: Difference between each number in the sequence.\n",
    "Note that:\n",
    "\n",
    "* All parameters must be integers.\n",
    "* All parameters can be positive or negative.\n",
    "* `range()` (and Python in general) is 0-index based, meaning list indexes start at 0, not 1. eg. The syntax to access the first element of a list is `mylist[0]`. Therefore the last integer generated by `range()` is up to, but not including, stop. For example `range(0, 5)` generates integers from 0 up to, but not including, 5."
   ]
  },
  {
   "cell_type": "code",
   "execution_count": 2,
   "metadata": {},
   "outputs": [
    {
     "name": "stdout",
     "output_type": "stream",
     "text": [
      "0\n",
      "1\n",
      "2\n",
      "3\n",
      "4\n"
     ]
    }
   ],
   "source": [
    "# One parameter\n",
    "for i in range(5):\n",
    "    print(i)"
   ]
  },
  {
   "cell_type": "code",
   "execution_count": 3,
   "metadata": {},
   "outputs": [
    {
     "name": "stdout",
     "output_type": "stream",
     "text": [
      "3\n",
      "4\n",
      "5\n"
     ]
    }
   ],
   "source": [
    "# Two parameters\n",
    "for i in range(3, 6):\n",
    "    print(i)"
   ]
  },
  {
   "cell_type": "code",
   "execution_count": 4,
   "metadata": {},
   "outputs": [
    {
     "name": "stdout",
     "output_type": "stream",
     "text": [
      "4\n",
      "6\n",
      "8\n"
     ]
    }
   ],
   "source": [
    "# Three parameters\n",
    "for i in range(4, 10, 2):\n",
    "    print(i)"
   ]
  },
  {
   "cell_type": "code",
   "execution_count": 5,
   "metadata": {},
   "outputs": [
    {
     "name": "stdout",
     "output_type": "stream",
     "text": [
      "0\n",
      "-2\n",
      "-4\n",
      "-6\n",
      "-8\n"
     ]
    }
   ],
   "source": [
    "# Going backwards\n",
    "for i in range(0, -10, -2):\n",
    "    print(i)"
   ]
  },
  {
   "cell_type": "markdown",
   "metadata": {},
   "source": [
    "## [Psuedocode](http://www.unf.edu/~broggio/cop2221/2221pseu.htm)\n",
    "\n",
    "In class we talked about Psuedocode which is basically a verbal version of what your code is doing. "
   ]
  },
  {
   "cell_type": "code",
   "execution_count": 1,
   "metadata": {},
   "outputs": [
    {
     "data": {
      "text/html": [
       "\n",
       "        <iframe\n",
       "            width=\"100%\"\n",
       "            height=\"350\"\n",
       "            src=\"http://www.unf.edu/~broggio/cop2221/2221pseu.htm\"\n",
       "            frameborder=\"0\"\n",
       "            allowfullscreen\n",
       "        ></iframe>\n",
       "        "
      ],
      "text/plain": [
       "<IPython.lib.display.IFrame at 0x107dfe810>"
      ]
     },
     "execution_count": 1,
     "metadata": {},
     "output_type": "execute_result"
    }
   ],
   "source": [
    "from IPython.display import IFrame #ALSO! you can embed some web sites into Jupyter notebooks\n",
    "IFrame('http://www.unf.edu/~broggio/cop2221/2221pseu.htm', width='100%', height=350)"
   ]
  },
  {
   "cell_type": "markdown",
   "metadata": {},
   "source": [
    "## Removing non-numeric items from our Coordinates List"
   ]
  },
  {
   "cell_type": "code",
   "execution_count": 13,
   "metadata": {},
   "outputs": [
    {
     "name": "stdout",
     "output_type": "stream",
     "text": [
      "[-74.0059, 40.7127, -73.949997, 40.650002, 32]\n"
     ]
    }
   ],
   "source": [
    "myCoords = [-74.0059, 40.7127, -73.949997, 40.650002, 32, 'potato']\n",
    "\n",
    "def returnNumericListItems(myList):\n",
    "  myNewList = []\n",
    "  for i in myList:\n",
    "    if type(i) == int or type(i) == float:\n",
    "      myNewList.append(i)\n",
    "    else:\n",
    "      pass\n",
    "  return myNewList\n",
    "      \n",
    "print returnNumericListItems(myCoords)     "
   ]
  },
  {
   "cell_type": "code",
   "execution_count": 12,
   "metadata": {},
   "outputs": [
    {
     "name": "stdout",
     "output_type": "stream",
     "text": [
      "[-74.0059, -73.949997, 32]\n"
     ]
    }
   ],
   "source": [
    "myStupidList = [-74.0059, 'spam', -73.949997, 'pratt', 32, 'potato']\n",
    "\n",
    "print returnNumericListItems(myStupidList)  "
   ]
  },
  {
   "cell_type": "markdown",
   "metadata": {},
   "source": [
    "If you'd like to see all the stuff we did interactively, its available here:\n",
    "https://github.com/pratt-savi-810/pratt-savi-810-2017-10/issues/7"
   ]
  },
  {
   "cell_type": "code",
   "execution_count": null,
   "metadata": {},
   "outputs": [],
   "source": []
  }
 ],
 "metadata": {
  "kernelspec": {
   "display_name": "Python 2",
   "language": "python",
   "name": "python2"
  },
  "language_info": {
   "codemirror_mode": {
    "name": "ipython",
    "version": 2
   },
   "file_extension": ".py",
   "mimetype": "text/x-python",
   "name": "python",
   "nbconvert_exporter": "python",
   "pygments_lexer": "ipython2",
   "version": "2.7.13"
  }
 },
 "nbformat": 4,
 "nbformat_minor": 2
}
