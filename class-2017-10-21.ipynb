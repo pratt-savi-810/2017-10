{
 "cells": [
  {
   "cell_type": "markdown",
   "metadata": {},
   "source": [
    "# INTRODUCTION TO PYTHON SCRIPTING FOR GEOSPATIAL\n",
    "\n",
    "**XSAVI 810: INTRODUCTION TO PYTHON SCRIPTING FOR GEOSPATIAL**\n",
    "Stand out from the usual GIS crowd by learning how to program and unlock the potential of geospatial scripting and programming with Python. Python is one of the most popular, user-friendly and in-demand programming languages for Geospatial applications. Move beyond the out-of-the-box capabilities of ArcGIS by learning how to automate lengthy GIS processes, create custom/shareable tools and scripts, synthesize data and apply geoprocessing in ways that reduce manual overhead and help iterate and generate new insights more quickly. We’ll introduce you to Python and then dive into ArcPy and other useful data and geospatial Python libraries for data science/data carpentry (pandas), interacting with API’s for applications such as geocoding (geopy) and data retrieval (US Census API) and creating mapping applications on Carto (CartoDB) programmatically with the carto-python library. "
   ]
  },
  {
   "cell_type": "markdown",
   "metadata": {},
   "source": [
    "What I hope you'll get out of this course:\n",
    "* learning how to script and automate GIS tasks with Python\n",
    "* setting up development/project environments the right way (I did these wrong for years :( )\n",
    "* learning the lingo and tools \n",
    "* how to troubleshoot dependencies, etc. \n",
    "* build some programs"
   ]
  },
  {
   "cell_type": "markdown",
   "metadata": {},
   "source": [
    "## Today's Schedule \n",
    "\n",
    "* Introductions\n",
    "* Interactive [quick dive](#quickdive) in to Python \n"
   ]
  },
  {
   "cell_type": "markdown",
   "metadata": {},
   "source": [
    "<a id='quickdive'></a>"
   ]
  },
  {
   "cell_type": "markdown",
   "metadata": {},
   "source": [
    "<h2><a id='quickdive'>Quick dive into Python</a></h2>\n",
    "\n",
    "We're going to use [repl.it](https://repl.it/languages/python) to do some very basic Python introduction and get your hands dirty early on, as its super important to start making mistakes early on. \n",
    "\n",
    "[![repl](img/01-repl.png)](https://repl.it/languages/python)"
   ]
  },
  {
   "cell_type": "markdown",
   "metadata": {},
   "source": [
    "### Let's go!"
   ]
  },
  {
   "cell_type": "code",
   "execution_count": 3,
   "metadata": {},
   "outputs": [
    {
     "name": "stdout",
     "output_type": "stream",
     "text": [
      "GIS rocks!\n"
     ]
    }
   ],
   "source": [
    "x = 'GIS rocks!'\n",
    "print x"
   ]
  },
  {
   "cell_type": "code",
   "execution_count": 4,
   "metadata": {},
   "outputs": [
    {
     "name": "stdout",
     "output_type": "stream",
     "text": [
      "GIS rocks!\n"
     ]
    }
   ],
   "source": [
    "# comments begin with hashtags, this is where you can add notes, etc. \n",
    "x = 'GIS rocks!' #let's declare this variable X as this string\n",
    "print x #let's print x"
   ]
  },
  {
   "cell_type": "code",
   "execution_count": 5,
   "metadata": {},
   "outputs": [
    {
     "name": "stdout",
     "output_type": "stream",
     "text": [
      "GIS is very very cool! GIS is very very cool! \n"
     ]
    }
   ],
   "source": [
    "x = 'GIS is very very cool! ' # I can change this variable\n",
    "print x*2 # and perform some operation on it, such as printing it twice"
   ]
  },
  {
   "cell_type": "code",
   "execution_count": 70,
   "metadata": {},
   "outputs": [],
   "source": [
    "myCoords = [-74.0059, 40.7127] # I'll store coordinates in this list"
   ]
  },
  {
   "cell_type": "code",
   "execution_count": 71,
   "metadata": {},
   "outputs": [
    {
     "name": "stdout",
     "output_type": "stream",
     "text": [
      "[-74.0059, 40.7127]\n"
     ]
    }
   ],
   "source": [
    "print myCoords # note that the coords are longitude, latitude order"
   ]
  },
  {
   "cell_type": "code",
   "execution_count": 72,
   "metadata": {},
   "outputs": [
    {
     "name": "stdout",
     "output_type": "stream",
     "text": [
      "40.7127\n"
     ]
    }
   ],
   "source": [
    "print myCoords[1]"
   ]
  },
  {
   "cell_type": "markdown",
   "metadata": {},
   "source": [
    "### What just happened? \n",
    "\n",
    "We accessed the 1th element in the list. 0 is always the first element in a list. [Learn more about lists](https://docs.python.org/3/tutorial/datastructures.html#more-on-lists)"
   ]
  },
  {
   "cell_type": "code",
   "execution_count": 73,
   "metadata": {},
   "outputs": [
    {
     "name": "stdout",
     "output_type": "stream",
     "text": [
      "-74.0059\n"
     ]
    }
   ],
   "source": [
    "print myCoords[0]"
   ]
  },
  {
   "cell_type": "code",
   "execution_count": 74,
   "metadata": {},
   "outputs": [
    {
     "ename": "IndexError",
     "evalue": "list index out of range",
     "output_type": "error",
     "traceback": [
      "\u001b[0;31m---------------------------------------------------------------------------\u001b[0m",
      "\u001b[0;31mIndexError\u001b[0m                                Traceback (most recent call last)",
      "\u001b[0;32m<ipython-input-74-6bd4cc0568cf>\u001b[0m in \u001b[0;36m<module>\u001b[0;34m()\u001b[0m\n\u001b[0;32m----> 1\u001b[0;31m \u001b[0;32mprint\u001b[0m \u001b[0mmyCoords\u001b[0m\u001b[0;34m[\u001b[0m\u001b[0;36m2\u001b[0m\u001b[0;34m]\u001b[0m\u001b[0;34m\u001b[0m\u001b[0m\n\u001b[0m",
      "\u001b[0;31mIndexError\u001b[0m: list index out of range"
     ]
    }
   ],
   "source": [
    "print myCoords[2]"
   ]
  },
  {
   "cell_type": "markdown",
   "metadata": {},
   "source": [
    "### We can't find that item in the list :("
   ]
  },
  {
   "cell_type": "code",
   "execution_count": 75,
   "metadata": {},
   "outputs": [],
   "source": [
    "myCoords.append(-73.949997) # add a new longitude"
   ]
  },
  {
   "cell_type": "code",
   "execution_count": 76,
   "metadata": {},
   "outputs": [],
   "source": [
    "myCoords.append(40.650002) # add a new latitude"
   ]
  },
  {
   "cell_type": "code",
   "execution_count": 77,
   "metadata": {},
   "outputs": [
    {
     "name": "stdout",
     "output_type": "stream",
     "text": [
      "[-74.0059, 40.7127, -73.949997, 40.650002]\n"
     ]
    }
   ],
   "source": [
    "print myCoords"
   ]
  },
  {
   "cell_type": "code",
   "execution_count": 79,
   "metadata": {},
   "outputs": [
    {
     "name": "stdout",
     "output_type": "stream",
     "text": [
      "40.650002\n"
     ]
    }
   ],
   "source": [
    "print myCoords[3]"
   ]
  },
  {
   "cell_type": "markdown",
   "metadata": {},
   "source": [
    "What is this `append( )` business? "
   ]
  },
  {
   "cell_type": "markdown",
   "metadata": {},
   "source": [
    "### [`append()`](https://docs.python.org/3/tutorial/datastructures.html#more-on-lists) is a Python function we can apply to a `list` \n",
    "Learn more about [`append()`](https://docs.python.org/3/tutorial/datastructures.html#more-on-lists) \n",
    "\n",
    "`list.append(x)`\n"
   ]
  },
  {
   "cell_type": "markdown",
   "metadata": {},
   "source": [
    "### How about I want to know how many items are in the list"
   ]
  },
  {
   "cell_type": "code",
   "execution_count": 81,
   "metadata": {},
   "outputs": [
    {
     "data": {
      "text/plain": [
       "4"
      ]
     },
     "execution_count": 81,
     "metadata": {},
     "output_type": "execute_result"
    }
   ],
   "source": [
    "len(myCoords)"
   ]
  },
  {
   "cell_type": "markdown",
   "metadata": {},
   "source": [
    "Learn more about [`len()`](https://docs.python.org/2/library/functions.html#len)"
   ]
  },
  {
   "cell_type": "code",
   "execution_count": 82,
   "metadata": {},
   "outputs": [
    {
     "data": {
      "text/plain": [
       "3"
      ]
     },
     "execution_count": 82,
     "metadata": {},
     "output_type": "execute_result"
    }
   ],
   "source": [
    "len('GIS')"
   ]
  },
  {
   "cell_type": "code",
   "execution_count": null,
   "metadata": {},
   "outputs": [],
   "source": []
  }
 ],
 "metadata": {
  "kernelspec": {
   "display_name": "Python 2",
   "language": "python",
   "name": "python2"
  },
  "language_info": {
   "codemirror_mode": {
    "name": "ipython",
    "version": 2
   },
   "file_extension": ".py",
   "mimetype": "text/x-python",
   "name": "python",
   "nbconvert_exporter": "python",
   "pygments_lexer": "ipython2",
   "version": "2.7.13"
  }
 },
 "nbformat": 4,
 "nbformat_minor": 2
}
