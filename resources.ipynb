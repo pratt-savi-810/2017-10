{
 "cells": [
  {
   "cell_type": "markdown",
   "metadata": {},
   "source": [
    "# Resources:"
   ]
  },
  {
   "cell_type": "markdown",
   "metadata": {},
   "source": [
    "## Python"
   ]
  },
  {
   "cell_type": "markdown",
   "metadata": {},
   "source": [
    "## Jupyter Notebooks\n",
    "\n",
    "![jupyter](http://jupyter.org/assets/jupyterpreview.png)"
   ]
  },
  {
   "cell_type": "markdown",
   "metadata": {},
   "source": [
    "## Pandas\n",
    "\n",
    "* 10 minutes to Pandas - https://pandas.pydata.org/pandas-docs/stable/10min.html\n",
    "![10minstopandas](https://pandas.pydata.org/pandas-docs/stable/_images/frame_plot_basic.png)\n",
    "\n",
    "* Books\n",
    "    * "
   ]
  },
  {
   "cell_type": "markdown",
   "metadata": {},
   "source": [
    "## Matplotlib\n",
    "\n",
    "Plotting\n",
    "![matplotlib-3d](https://matplotlib.org/_images/surface3d_demo.png)\n",
    "\n",
    "XKCD\n",
    "![matplotlib-xkcd](https://matplotlib.org/_images/xkcd_001.png)"
   ]
  },
  {
   "cell_type": "markdown",
   "metadata": {},
   "source": [
    "## ArcPy\n",
    "\n",
    "![arcpy](http://pro.arcgis.com/en/pro-app/arcpy/get-started/GUID-799216F7-A908-470B-89E1-550658DF2BB1-web.png)"
   ]
  },
  {
   "cell_type": "markdown",
   "metadata": {},
   "source": [
    "## Shapely"
   ]
  },
  {
   "cell_type": "markdown",
   "metadata": {},
   "source": [
    "## Fiona"
   ]
  },
  {
   "cell_type": "markdown",
   "metadata": {},
   "source": [
    "## Notable People\n",
    "\n",
    "* Chris Albon - Data Scientist with great resources - https://chrisalbon.com/\n",
    "    * podcast - http://partiallyderivative.com/"
   ]
  },
  {
   "cell_type": "code",
   "execution_count": null,
   "metadata": {},
   "outputs": [],
   "source": []
  }
 ],
 "metadata": {
  "kernelspec": {
   "display_name": "Python 2",
   "language": "python",
   "name": "python2"
  },
  "language_info": {
   "codemirror_mode": {
    "name": "ipython",
    "version": 2
   },
   "file_extension": ".py",
   "mimetype": "text/x-python",
   "name": "python",
   "nbconvert_exporter": "python",
   "pygments_lexer": "ipython2",
   "version": "2.7.13"
  }
 },
 "nbformat": 4,
 "nbformat_minor": 2
}
