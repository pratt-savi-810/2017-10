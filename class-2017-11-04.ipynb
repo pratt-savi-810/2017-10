{
 "cells": [
  {
   "cell_type": "code",
   "execution_count": null,
   "metadata": {},
   "outputs": [],
   "source": [
    "https://talkpython.fm/\n",
    "\n",
    "http://timmyreilly.azurewebsites.net/python-pip-virtualenv-installation-on-windows/\n",
    "    \n",
    "    \n",
    "https://github.com/nygeog/foursquare/blob/master/api_calls_examples.txt\n",
    "    \n",
    "show read carto csv https://nygeog.cartodb.com/api/v2/sql?filename=nycb2010_treesdata_all_trees_1995_2005_2015.csv&format=csv&q=SELECT bctcb2010,count1995,count2005,count2015 FROM nycb2010_treesdata\n"
   ]
  },
  {
   "cell_type": "markdown",
   "metadata": {},
   "source": [
    "## Necessary things to cover: \n",
    "* ArcPy Geoprocessing\n",
    "* Shapely, Fiona\n",
    "* Census API\n",
    "* Geocoding API\n"
   ]
  },
  {
   "cell_type": "markdown",
   "metadata": {},
   "source": [
    "# ArcPy in VIRTUAL ENV for Windows!!!\n",
    "\n",
    "\n",
    "Install **[pip](https://pip.pypa.io/en/stable/installing/#do-i-need-to-install-pip)** and **[virtualenv](https://virtualenv.pypa.io/en/stable/)**. \n",
    "\n",
    "**pip**:\n",
    "\n",
    "* https://pip.pypa.io/en/stable/installing/#do-i-need-to-install-pip\n",
    "* https://bootstrap.pypa.io/get-pip.py\n",
    "\n",
    "\n",
    "**virtualenv**:\n",
    "        \n",
    "    pip install virtualenv\n",
    "\n",
    "[Change your **PATH** in your **ENVIRONMENT**](https://stackoverflow.com/questions/3701646/how-to-add-to-the-pythonpath-in-windows-7):\n",
    "\n",
    "    C:\\Python27\\;C:\\Python27\\Scripts\\\n",
    "\n",
    "Or for **ArcGIS's Python** location:\n",
    "\n",
    "    C:\\Python27\\ArcGIS10.4\\;C:\\Python27\\ArcGIS10.4\\Scripts\\\n",
    "\n",
    "![](https://github.com/pratt-savi-810/pratt-savi-810-2017-10/blob/master/img/arcgis_python_location.png?raw=true)\n",
    "\n",
    "* **activate virtualenv** on a windows machine:\n",
    "\n",
    "        virtualenv env\n",
    "        del env\\Lib\\no-global-site-packages.txt\n",
    "        env\\Scripts\\activate.bat\n",
    "\t\n",
    "* **deactivate**:\n",
    "\n",
    "        deactivate\n",
    "\t\n",
    "## [Calling arcpy from an external virtual Python environment](https://my.usgs.gov/confluence/display/cdi/Calling+arcpy+from+an+external+virtual+Python+environment)\n",
    "\n",
    "\n",
    "More about **no-site-packeges**:\n",
    "* https://stackoverflow.com/questions/3371136/revert-the-no-site-packages-option-with-virtualenv\n",
    "* https://stackoverflow.com/questions/3873294/can-i-change-an-an-existing-virtualenv-to-ignore-global-site-packages-like-n\n",
    "\n",
    "\n",
    "        pip install jupyter \n",
    "        pip install ipython\n",
    "        pip install pandas"
   ]
  },
  {
   "cell_type": "markdown",
   "metadata": {},
   "source": [
    "\n",
    "\n",
    "<img src=\"https://github.com/pratt-savi-810/pratt-savi-810-2017-10/blob/master/img/arcgis_python_location.png?raw=true\" width=\"100\">\n",
    "\n",
    "<img src=\"https://github.com/pratt-savi-810/pratt-savi-810-2017-10/blob/master/img/windows-edit-env.png?raw=true\" width=\"100\" >\n",
    "\n",
    "\n",
    "https://pythongisandstuff.wordpress.com/2013/07/10/locating-python-adding-to-path-and-accessing-arcpy/"
   ]
  },
  {
   "cell_type": "markdown",
   "metadata": {},
   "source": [
    "## Dictionaries with nested values\n",
    "\n",
    "Let's say I have a dictionary like this:"
   ]
  },
  {
   "cell_type": "code",
   "execution_count": 47,
   "metadata": {},
   "outputs": [],
   "source": [
    "d = {'Neutral Milk Hotel': \n",
    "         {'On Avery Island': \n",
    "              {'year': 1996, 'record company': 'Merge Records'},\n",
    "         'In the Aeroplane Over the Sea': \n",
    "              {'year': 1998, 'record company': 'Merge Records', 'category': 'indie'},\n",
    "         'Unfinished': None},\n",
    "     'Big Star': \n",
    "         {'#1 Record':\n",
    "              {'year': 1972, 'record company': 'Ardent/Stax', 'instrument': 'guitar'},\n",
    "         'Radio City':\n",
    "              {'year': 1974, 'record company': 'Ardent/Stax'},\n",
    "         'Third/Sister Lovers':\n",
    "              {'year': 1978, 'record company': 'PVC'},\n",
    "         'In Space':\n",
    "              {'year': 2005, 'record company': 'Rykodisc'}},\n",
    "     'ArcPy Music Band': \n",
    "         {'Unfinished': None},\n",
    "         } "
   ]
  },
  {
   "cell_type": "code",
   "execution_count": 48,
   "metadata": {},
   "outputs": [
    {
     "name": "stdout",
     "output_type": "stream",
     "text": [
      "Neutral Milk Hotel\n",
      "     In the Aeroplane Over the Sea\n",
      "     On Avery Island\n",
      "     Unfinished\n",
      "ArcPy Music Band\n",
      "     Unfinished\n",
      "Big Star\n",
      "     Radio City\n",
      "     Third/Sister Lovers\n",
      "     #1 Record\n",
      "     In Space\n"
     ]
    }
   ],
   "source": [
    "for i, j in d.iteritems():\n",
    "    print i\n",
    "    for k in j:\n",
    "        print '    ', k"
   ]
  },
  {
   "cell_type": "markdown",
   "metadata": {},
   "source": [
    "#### Accessing value from keys:"
   ]
  },
  {
   "cell_type": "code",
   "execution_count": 49,
   "metadata": {},
   "outputs": [
    {
     "data": {
      "text/plain": [
       "{'record company': 'Rykodisc', 'year': 2005}"
      ]
     },
     "execution_count": 49,
     "metadata": {},
     "output_type": "execute_result"
    }
   ],
   "source": [
    "d['Big Star']['In Space']"
   ]
  },
  {
   "cell_type": "code",
   "execution_count": 51,
   "metadata": {},
   "outputs": [
    {
     "data": {
      "text/plain": [
       "'indie'"
      ]
     },
     "execution_count": 51,
     "metadata": {},
     "output_type": "execute_result"
    }
   ],
   "source": [
    "d['Neutral Milk Hotel']['In the Aeroplane Over the Sea']['category']"
   ]
  },
  {
   "cell_type": "code",
   "execution_count": 52,
   "metadata": {},
   "outputs": [
    {
     "ename": "KeyError",
     "evalue": "'category'",
     "output_type": "error",
     "traceback": [
      "\u001b[0;31m---------------------------------------------------------------------------\u001b[0m",
      "\u001b[0;31mKeyError\u001b[0m                                  Traceback (most recent call last)",
      "\u001b[0;32m<ipython-input-52-49aa89af7549>\u001b[0m in \u001b[0;36m<module>\u001b[0;34m()\u001b[0m\n\u001b[0;32m----> 1\u001b[0;31m \u001b[0md\u001b[0m\u001b[0;34m[\u001b[0m\u001b[0;34m'Neutral Milk Hotel'\u001b[0m\u001b[0;34m]\u001b[0m\u001b[0;34m[\u001b[0m\u001b[0;34m'On Avery Island'\u001b[0m\u001b[0;34m]\u001b[0m\u001b[0;34m[\u001b[0m\u001b[0;34m'category'\u001b[0m\u001b[0;34m]\u001b[0m\u001b[0;34m\u001b[0m\u001b[0m\n\u001b[0m",
      "\u001b[0;31mKeyError\u001b[0m: 'category'"
     ]
    }
   ],
   "source": [
    "d['Neutral Milk Hotel']['On Avery Island']['category']"
   ]
  },
  {
   "cell_type": "markdown",
   "metadata": {},
   "source": [
    "^ Error because that album has no `category` key and value set. "
   ]
  },
  {
   "cell_type": "code",
   "execution_count": null,
   "metadata": {},
   "outputs": [],
   "source": []
  }
 ],
 "metadata": {
  "kernelspec": {
   "display_name": "Python 2",
   "language": "python",
   "name": "python2"
  },
  "language_info": {
   "codemirror_mode": {
    "name": "ipython",
    "version": 2
   },
   "file_extension": ".py",
   "mimetype": "text/x-python",
   "name": "python",
   "nbconvert_exporter": "python",
   "pygments_lexer": "ipython2",
   "version": "2.7.13"
  }
 },
 "nbformat": 4,
 "nbformat_minor": 2
}
