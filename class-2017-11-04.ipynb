{
 "cells": [
  {
   "cell_type": "code",
   "execution_count": null,
   "metadata": {},
   "outputs": [],
   "source": [
    "## Necessary things to cover: \n",
    "* ArcPy\n",
    "* Shapely, Fiona\n",
    "* Census API\n",
    "* Geocoding API\n",
    "\n",
    "\n",
    "## Future things to cover:\n",
    "* PIP (Python in Place) - Installing Dependencies\n",
    "* IPython \n",
    "* Jupyter Notebooks\n",
    "* Virtual Environments (week 2 ?)\n",
    "* Matplotlib\n",
    "* Pandas\n",
    "    * Reading Excel files"
   ]
  }
 ],
 "metadata": {
  "kernelspec": {
   "display_name": "Python 2",
   "language": "python",
   "name": "python2"
  },
  "language_info": {
   "codemirror_mode": {
    "name": "ipython",
    "version": 2
   },
   "file_extension": ".py",
   "mimetype": "text/x-python",
   "name": "python",
   "nbconvert_exporter": "python",
   "pygments_lexer": "ipython2",
   "version": "2.7.11"
  }
 },
 "nbformat": 4,
 "nbformat_minor": 2
}
