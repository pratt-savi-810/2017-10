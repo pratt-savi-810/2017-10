{
 "cells": [
  {
   "cell_type": "markdown",
   "metadata": {},
   "source": [
    "# INTRODUCTION TO PYTHON SCRIPTING FOR GEOSPATIAL\n",
    "\n",
    "**XSAVI 810: INTRODUCTION TO PYTHON SCRIPTING FOR GEOSPATIAL**\n",
    "    \n",
    "## Class 3"
   ]
  },
  {
   "cell_type": "markdown",
   "metadata": {},
   "source": [
    "### Review on CSV's and Python\n",
    "\n",
    "CSV Files in Python || Python Tutorial || Learn Python Programming\n",
    "Socratica \n",
    "* https://www.youtube.com/watch?v=Xi52tx6phRU\n",
    "\n",
    "Python Basics: Reading Data From CSV File\n",
    " || Coding is for girls video series\n",
    "* https://www.youtube.com/watch?v=a8V6b1iy-Hg\n",
    "\n",
    "**Read XLS and write to CSV** - may have to `pip install xlrd`"
   ]
  },
  {
   "cell_type": "code",
   "execution_count": 94,
   "metadata": {},
   "outputs": [
    {
     "data": {
      "text/html": [
       "<div>\n",
       "<style>\n",
       "    .dataframe thead tr:only-child th {\n",
       "        text-align: right;\n",
       "    }\n",
       "\n",
       "    .dataframe thead th {\n",
       "        text-align: left;\n",
       "    }\n",
       "\n",
       "    .dataframe tbody tr th {\n",
       "        vertical-align: top;\n",
       "    }\n",
       "</style>\n",
       "<table border=\"1\" class=\"dataframe\">\n",
       "  <thead>\n",
       "    <tr style=\"text-align: right;\">\n",
       "      <th></th>\n",
       "      <th>id</th>\n",
       "      <th>address</th>\n",
       "      <th>zip</th>\n",
       "    </tr>\n",
       "  </thead>\n",
       "  <tbody>\n",
       "    <tr>\n",
       "      <th>0</th>\n",
       "      <td>1</td>\n",
       "      <td>200 Willoughby Ave, Brooklyn, NY 11205</td>\n",
       "      <td>11205</td>\n",
       "    </tr>\n",
       "    <tr>\n",
       "      <th>1</th>\n",
       "      <td>2</td>\n",
       "      <td>125 E 11th St, New York, NY 10003</td>\n",
       "      <td>10003</td>\n",
       "    </tr>\n",
       "    <tr>\n",
       "      <th>2</th>\n",
       "      <td>3</td>\n",
       "      <td>319 Frost St, Brooklyn, NY 11222</td>\n",
       "      <td>11222</td>\n",
       "    </tr>\n",
       "  </tbody>\n",
       "</table>\n",
       "</div>"
      ],
      "text/plain": [
       "   id                                 address    zip\n",
       "0   1  200 Willoughby Ave, Brooklyn, NY 11205  11205\n",
       "1   2       125 E 11th St, New York, NY 10003  10003\n",
       "2   3        319 Frost St, Brooklyn, NY 11222  11222"
      ]
     },
     "execution_count": 94,
     "metadata": {},
     "output_type": "execute_result"
    }
   ],
   "source": [
    "import pandas as pd \n",
    " \n",
    "xlsFile = 'data/address_list.xlsx'\n",
    "df = pd.io.excel.read_excel(xlsFile, 'Sheet1')\n",
    "\n",
    "df['zip'] = df.address.str.split('NY ',1).str[1]\n",
    "\n",
    "df.to_csv('data/address_list_split.csv')\n",
    "\n",
    "df"
   ]
  },
  {
   "cell_type": "markdown",
   "metadata": {},
   "source": [
    "### More Python Links\n",
    "\n",
    "##### [Talk Python to Me - Podcast](https://talkpython.fm/)\n",
    "\n",
    "<img src=\"https://talkpython.fm/static/img/talk_python_logo_mic.png?cache_id=4e8e76b2438a57933fe769bd1fc5f6ef\n",
    "\" width=\"100\" >\n",
    "\n",
    "A recent Dr. Damien Irving a climate science researcher who uses Python and GIS. \n",
    "\n",
    "    \n",
    "http://timmyreilly.azurewebsites.net/python-pip-virtualenv-installation-on-windows/\n",
    "    \n",
    "    \n",
    "https://github.com/nygeog/foursquare/blob/master/api_calls_examples.txt\n",
    "    \n",
    "show read carto csv https://nygeog.cartodb.com/api/v2/sql?filename=nycb2010_treesdata_all_trees_1995_2005_2015.csv&format=csv&q=SELECT bctcb2010,count1995,count2005,count2015 FROM nycb2010_treesdata\n"
   ]
  },
  {
   "cell_type": "markdown",
   "metadata": {},
   "source": [
    "### [Try Git](https://try.github.io)\n",
    "\n",
    "For fun GitHub commands learning:\n",
    "    \n",
    "[![](https://github.com/pratt-savi-810/pratt-savi-810-2017-10/blob/master/img/try-git.png?raw=true)](https://try.github.io)"
   ]
  },
  {
   "cell_type": "markdown",
   "metadata": {},
   "source": [
    "## Things to cover today:\n",
    "* Virtual Environments on Windows and pointing to your ArcGIS Python\n",
    "* ArcPy Geoprocessing\n",
    "* More on Dictionaries...\n",
    "* Geocoding API \n"
   ]
  },
  {
   "cell_type": "markdown",
   "metadata": {},
   "source": [
    "# ArcPy in VIRTUAL ENV for Windows!!!\n",
    "\n",
    "\n",
    "Install **[pip](https://pip.pypa.io/en/stable/installing/#do-i-need-to-install-pip)** and **[virtualenv](https://virtualenv.pypa.io/en/stable/)**. \n",
    "\n",
    "**pip**:\n",
    "\n",
    "* https://pip.pypa.io/en/stable/installing/#do-i-need-to-install-pip\n",
    "* https://bootstrap.pypa.io/get-pip.py\n",
    "\n",
    "\n",
    "**virtualenv**:\n",
    "        \n",
    "    pip install virtualenv\n",
    "\n",
    "[Change your **PATH** in your **ENVIRONMENT**](https://stackoverflow.com/questions/3701646/how-to-add-to-the-pythonpath-in-windows-7):\n",
    "\n",
    "    C:\\Python27\\;C:\\Python27\\Scripts\\\n",
    "\n",
    "Or for **ArcGIS's Python** location:\n",
    "\n",
    "    C:\\Python27\\ArcGIS10.4\\;C:\\Python27\\ArcGIS10.4\\Scripts\\\n",
    "\n",
    "<img src=\"https://github.com/pratt-savi-810/pratt-savi-810-2017-10/blob/master/img/arcgis_python_location.png?raw=true\" width=\"300\" >\n",
    "\n",
    "<img src=\"https://github.com/pratt-savi-810/pratt-savi-810-2017-10/blob/master/img/windows-edit-env.png?raw=true\" width=\"300\" >\n",
    "\n",
    "<img src=\"https://github.com/pratt-savi-810/pratt-savi-810-2017-10/blob/master/img/path.png?raw=true\" width=\"300\" >\n",
    "\n",
    "Then make sure **close terminal window and then reopen**. \n",
    "\n",
    "\n",
    "* **activate virtualenv** on a windows machine:\n",
    "\n",
    "        virtualenv env\n",
    "        del env\\Lib\\no-global-site-packages.txt\n",
    "        env\\Scripts\\activate.bat\n",
    "\t\n",
    "<img src=\"https://github.com/pratt-savi-810/pratt-savi-810-2017-10/blob/master/img/env-commands.png?raw=true\" width=\"400\" >\n",
    "  \n",
    "\n",
    "### Let's try a [Buffer analysis](http://desktop.arcgis.com/en/arcmap/10.3/tools/analysis-toolbox/buffer.htm) now in arcpy:\n",
    "\n",
    "        import arcpy\n",
    "        inputFile = 'Y:/GitHub/pratt-savi-810-2017-10/data/nybb_17c/nybb.shp'\n",
    "        outputFile = 'Y:/GitHub/pratt-savi-810-2017-10/data/nybb_17c/nybb_buffer.shp'\n",
    "        arcpy.Buffer_analysis(inputFile, outputFile, '10000 feet')  \n",
    "  \n",
    "* **deactivate virtual env**:\n",
    "\n",
    "        deactivate\n",
    "\t\n",
    "## [Calling arcpy from an external virtual Python environment](https://my.usgs.gov/confluence/display/cdi/Calling+arcpy+from+an+external+virtual+Python+environment)\n",
    "\n",
    "\n",
    "More about **no-site-packeges**:\n",
    "* https://stackoverflow.com/questions/3371136/revert-the-no-site-packages-option-with-virtualenv\n",
    "* https://stackoverflow.com/questions/3873294/can-i-change-an-an-existing-virtualenv-to-ignore-global-site-packages-like-n\n",
    "\n",
    "\n",
    "We can also install other libraries in our virtual environment, like jupyter notebooks, etc.\n",
    "\n",
    "        pip install jupyter \n",
    "        pip install ipython\n",
    "        pip install pandas"
   ]
  },
  {
   "cell_type": "markdown",
   "metadata": {},
   "source": [
    "\n",
    "\n",
    "<img src=\"https://github.com/pratt-savi-810/pratt-savi-810-2017-10/blob/master/img/arcgis_python_location.png?raw=true\" width=\"300\">\n",
    "\n",
    "<img src=\"https://github.com/pratt-savi-810/pratt-savi-810-2017-10/blob/master/img/windows-edit-env.png?raw=true\" width=\"300\" >\n",
    "\n",
    "\n",
    "https://pythongisandstuff.wordpress.com/2013/07/10/locating-python-adding-to-path-and-accessing-arcpy/"
   ]
  },
  {
   "cell_type": "markdown",
   "metadata": {},
   "source": [
    "## Dictionaries and nested values\n",
    "\n",
    "Let's say I have a dictionary like this:"
   ]
  },
  {
   "cell_type": "code",
   "execution_count": 62,
   "metadata": {},
   "outputs": [],
   "source": [
    "d = {'Neutral Milk Hotel': \n",
    "         {'On Avery Island': \n",
    "              {'year': 1996, 'record company': 'Merge Records'},\n",
    "         'In the Aeroplane Over the Sea': \n",
    "              {'year': 1998, 'record company': 'Merge Records', 'category': 'indie'},\n",
    "         'Unfinished': None},\n",
    "     'Big Star': \n",
    "         {'#1 Record':\n",
    "              {'year': 1972, 'record company': 'Ardent/Stax', 'instrument': 'guitar'},\n",
    "         'Radio City':\n",
    "              {'year': 1974, 'record company': 'Ardent/Stax'},\n",
    "         'Third/Sister Lovers':\n",
    "              {'year': 1978, 'record company': 'PVC'},\n",
    "         'In Space':\n",
    "              {'year': 2005, 'record company': 'Rykodisc'}},\n",
    "     'ArcPy Music Band': \n",
    "         {'Unfinished': None},\n",
    "         } "
   ]
  },
  {
   "cell_type": "code",
   "execution_count": 63,
   "metadata": {},
   "outputs": [
    {
     "name": "stdout",
     "output_type": "stream",
     "text": [
      "Neutral Milk Hotel\n",
      "     In the Aeroplane Over the Sea\n",
      "     On Avery Island\n",
      "     Unfinished\n",
      "ArcPy Music Band\n",
      "     Unfinished\n",
      "Big Star\n",
      "     Radio City\n",
      "     Third/Sister Lovers\n",
      "     #1 Record\n",
      "     In Space\n"
     ]
    }
   ],
   "source": [
    "for i, j in d.iteritems():\n",
    "    print i\n",
    "    for k in j:\n",
    "        print '    ', k"
   ]
  },
  {
   "cell_type": "markdown",
   "metadata": {},
   "source": [
    "#### Accessing value from keys:"
   ]
  },
  {
   "cell_type": "code",
   "execution_count": 64,
   "metadata": {},
   "outputs": [
    {
     "data": {
      "text/plain": [
       "{'record company': 'Rykodisc', 'year': 2005}"
      ]
     },
     "execution_count": 64,
     "metadata": {},
     "output_type": "execute_result"
    }
   ],
   "source": [
    "d['Big Star']['In Space']"
   ]
  },
  {
   "cell_type": "code",
   "execution_count": 65,
   "metadata": {},
   "outputs": [
    {
     "data": {
      "text/plain": [
       "'indie'"
      ]
     },
     "execution_count": 65,
     "metadata": {},
     "output_type": "execute_result"
    }
   ],
   "source": [
    "d['Neutral Milk Hotel']['In the Aeroplane Over the Sea']['category']"
   ]
  },
  {
   "cell_type": "code",
   "execution_count": 66,
   "metadata": {},
   "outputs": [
    {
     "ename": "KeyError",
     "evalue": "'category'",
     "output_type": "error",
     "traceback": [
      "\u001b[0;31m---------------------------------------------------------------------------\u001b[0m",
      "\u001b[0;31mKeyError\u001b[0m                                  Traceback (most recent call last)",
      "\u001b[0;32m<ipython-input-66-49aa89af7549>\u001b[0m in \u001b[0;36m<module>\u001b[0;34m()\u001b[0m\n\u001b[0;32m----> 1\u001b[0;31m \u001b[0md\u001b[0m\u001b[0;34m[\u001b[0m\u001b[0;34m'Neutral Milk Hotel'\u001b[0m\u001b[0;34m]\u001b[0m\u001b[0;34m[\u001b[0m\u001b[0;34m'On Avery Island'\u001b[0m\u001b[0;34m]\u001b[0m\u001b[0;34m[\u001b[0m\u001b[0;34m'category'\u001b[0m\u001b[0;34m]\u001b[0m\u001b[0;34m\u001b[0m\u001b[0m\n\u001b[0m",
      "\u001b[0;31mKeyError\u001b[0m: 'category'"
     ]
    }
   ],
   "source": [
    "d['Neutral Milk Hotel']['On Avery Island']['category']"
   ]
  },
  {
   "cell_type": "markdown",
   "metadata": {},
   "source": [
    "^ Error because that album has no `category` key and value set. \n",
    "\n",
    "### JSON as a response"
   ]
  },
  {
   "cell_type": "code",
   "execution_count": 81,
   "metadata": {},
   "outputs": [
    {
     "name": "stdout",
     "output_type": "stream",
     "text": [
      "{\"message\":\"Hello there, wayfaring stranger. If you’re reading this then you probably didn’t see our blog post a couple of years back announcing that this API would go away: http://git.io/17AROg Fear not, you should be able to get what you need from the shiny new Events API instead.\",\"documentation_url\":\"https://developer.github.com/v3/activity/events/#list-public-events\"}\n"
     ]
    }
   ],
   "source": [
    "import requests\n",
    "r = requests.get('https://github.com/timeline.json')\n",
    "print r.text"
   ]
  },
  {
   "cell_type": "markdown",
   "metadata": {},
   "source": [
    "Spotify JSON example:\n",
    "https://developer.spotify.com/web-api/get-album/\n",
    "\n",
    "Flicket JSON example:\n",
    "http://www.flickr.com/services/feeds/photos_public.gne?tags=soccer&format=json"
   ]
  },
  {
   "cell_type": "markdown",
   "metadata": {},
   "source": [
    "## ModelBuilder Example\n",
    "\n",
    "![](data:image/png;base64,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)"
   ]
  },
  {
   "cell_type": "code",
   "execution_count": null,
   "metadata": {},
   "outputs": [],
   "source": []
  }
 ],
 "metadata": {
  "kernelspec": {
   "display_name": "Python 2",
   "language": "python",
   "name": "python2"
  },
  "language_info": {
   "codemirror_mode": {
    "name": "ipython",
    "version": 2
   },
   "file_extension": ".py",
   "mimetype": "text/x-python",
   "name": "python",
   "nbconvert_exporter": "python",
   "pygments_lexer": "ipython2",
   "version": "2.7.13"
  }
 },
 "nbformat": 4,
 "nbformat_minor": 2
}
