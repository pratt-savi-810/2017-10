{
 "cells": [
  {
   "cell_type": "code",
   "execution_count": null,
   "metadata": {},
   "outputs": [],
   "source": [
    "https://talkpython.fm/\n",
    "\n",
    "http://timmyreilly.azurewebsites.net/python-pip-virtualenv-installation-on-windows/\n",
    "    \n",
    "    \n",
    "https://github.com/nygeog/foursquare/blob/master/api_calls_examples.txt\n",
    "    \n",
    "show read carto csv https://nygeog.cartodb.com/api/v2/sql?filename=nycb2010_treesdata_all_trees_1995_2005_2015.csv&format=csv&q=SELECT bctcb2010,count1995,count2005,count2015 FROM nycb2010_treesdata\n"
   ]
  },
  {
   "cell_type": "markdown",
   "metadata": {},
   "source": [
    "## Necessary things to cover: \n",
    "* ArcPy Geoprocessing\n",
    "* Shapely, Fiona\n",
    "* Census API\n",
    "* Geocoding API\n"
   ]
  },
  {
   "cell_type": "code",
   "execution_count": null,
   "metadata": {},
   "outputs": [],
   "source": [
    "#VIRTUAL ENV for Windows!!!!\n",
    "\n",
    "Jupyter\n"
   ]
  }
 ],
 "metadata": {
  "kernelspec": {
   "display_name": "Python 2",
   "language": "python",
   "name": "python2"
  },
  "language_info": {
   "codemirror_mode": {
    "name": "ipython",
    "version": 2
   },
   "file_extension": ".py",
   "mimetype": "text/x-python",
   "name": "python",
   "nbconvert_exporter": "python",
   "pygments_lexer": "ipython2",
   "version": "2.7.13"
  }
 },
 "nbformat": 4,
 "nbformat_minor": 2
}
