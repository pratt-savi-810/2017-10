{
 "cells": [
  {
   "cell_type": "code",
   "execution_count": null,
   "metadata": {},
   "outputs": [],
   "source": [
    "https://talkpython.fm/\n",
    "\n",
    "http://timmyreilly.azurewebsites.net/python-pip-virtualenv-installation-on-windows/\n",
    "    \n",
    "    \n",
    "https://github.com/nygeog/foursquare/blob/master/api_calls_examples.txt\n",
    "    \n",
    "show read carto csv https://nygeog.cartodb.com/api/v2/sql?filename=nycb2010_treesdata_all_trees_1995_2005_2015.csv&format=csv&q=SELECT bctcb2010,count1995,count2005,count2015 FROM nycb2010_treesdata\n"
   ]
  },
  {
   "cell_type": "markdown",
   "metadata": {},
   "source": [
    "## Necessary things to cover: \n",
    "* ArcPy Geoprocessing\n",
    "* Shapely, Fiona\n",
    "* Census API\n",
    "* Geocoding API\n"
   ]
  },
  {
   "cell_type": "markdown",
   "metadata": {},
   "source": [
    "# ArcPy in VIRTUAL ENV for Windows!!!\n",
    "\n",
    "\n",
    "Install **[pip](https://pip.pypa.io/en/stable/installing/#do-i-need-to-install-pip)** and **[virtualenv](https://virtualenv.pypa.io/en/stable/)**. \n",
    "\n",
    "**pip**:\n",
    "\n",
    "* https://pip.pypa.io/en/stable/installing/#do-i-need-to-install-pip\n",
    "* https://bootstrap.pypa.io/get-pip.py\n",
    "\n",
    "\n",
    "**virtualenv**:\n",
    "        \n",
    "    pip install virtualenv\n",
    "\n",
    "[Change your **PATH** in your **ENVIRONMENT**](https://stackoverflow.com/questions/3701646/how-to-add-to-the-pythonpath-in-windows-7):\n",
    "\n",
    "    C:\\Python27\\;C:\\Python27\\Scripts\\\n",
    "\n",
    "Or for **ArcGIS's Python** location:\n",
    "\n",
    "    C:\\Python27\\ArcGIS10.4\\;C:\\Python27\\ArcGIS10.4\\Scripts\\\n",
    "\n",
    "\n",
    "* **activate virtualenv** on a windows machine:\n",
    "\n",
    "        virtualenv env\n",
    "        del env\\Lib\\no-global-site-packages.txt\n",
    "        env\\Scripts\\activate.bat\n",
    "\t\n",
    "* **deactivate**:\n",
    "\n",
    "        deactivate\n",
    "\t\n",
    "## [Calling arcpy from an external virtual Python environment](https://my.usgs.gov/confluence/display/cdi/Calling+arcpy+from+an+external+virtual+Python+environment)\n",
    "\n",
    "\n",
    "More about **no-site-packeges**:\n",
    "* https://stackoverflow.com/questions/3371136/revert-the-no-site-packages-option-with-virtualenv\n",
    "* https://stackoverflow.com/questions/3873294/can-i-change-an-an-existing-virtualenv-to-ignore-global-site-packages-like-n\n",
    "\n",
    "\n",
    "        pip install jupyter \n",
    "        pip install ipython\n",
    "        pip install pandas"
   ]
  },
  {
   "cell_type": "code",
   "execution_count": null,
   "metadata": {},
   "outputs": [],
   "source": []
  },
  {
   "cell_type": "code",
   "execution_count": null,
   "metadata": {},
   "outputs": [],
   "source": []
  }
 ],
 "metadata": {
  "kernelspec": {
   "display_name": "Python 2",
   "language": "python",
   "name": "python2"
  },
  "language_info": {
   "codemirror_mode": {
    "name": "ipython",
    "version": 2
   },
   "file_extension": ".py",
   "mimetype": "text/x-python",
   "name": "python",
   "nbconvert_exporter": "python",
   "pygments_lexer": "ipython2",
   "version": "2.7.11"
  }
 },
 "nbformat": 4,
 "nbformat_minor": 2
}
